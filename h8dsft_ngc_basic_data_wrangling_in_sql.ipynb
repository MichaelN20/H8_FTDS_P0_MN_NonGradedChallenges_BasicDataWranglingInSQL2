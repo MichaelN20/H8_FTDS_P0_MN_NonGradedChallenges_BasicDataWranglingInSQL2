{
 "cells": [
  {
   "cell_type": "markdown",
   "metadata": {},
   "source": [
    "# Non Graded Challenge : DDL & DML\n",
    "\n",
    "FTDS Phase 0 - Week 2\n",
    "\n",
    "Nama  : Michael Nathaniel\n",
    "\n",
    "Batch : HCK-009"
   ]
  },
  {
   "cell_type": "markdown",
   "metadata": {},
   "source": [
    "## Objective\n",
    "\n",
    "This Non Graded Challenge was created to evaluate the concept of Data Wrangling in SQL  with the aim of:\n",
    "1. Able to use the SELECT, FROM, and WHERE keywords to get data from a specific column.\n",
    "2. Able to Explore the table schema."
   ]
  },
  {
   "cell_type": "markdown",
   "metadata": {},
   "source": [
    "## Data\n",
    "You will use austin_bikeshare dataset from Google BigQuery Public Dataset. For example, you can change the following syntax:"
   ]
  },
  {
   "cell_type": "code",
   "execution_count": null,
   "metadata": {},
   "outputs": [],
   "source": [
    "from google.colab import auth\n",
    "from google.cloud import bigquery\n",
    "import pandas as pd\n",
    "\n",
    "auth.authenticate_user()\n",
    "project_id = \"your_project_id\"\n",
    "client = bigquery.Client(project=project_id)\n",
    "\n",
    "# put your query here\n",
    "query = \"\"\"\n",
    "SELECT * FROM\n",
    "`bigquery-public-data.austin_bikeshare.bikeshare_trips`\n",
    "'\"\"\"\n",
    "# Set up the queryquery_job = client.query(query).to_dataframe()query_job"
   ]
  },
  {
   "cell_type": "markdown",
   "metadata": {},
   "source": [
    "## Task"
   ]
  },
  {
   "cell_type": "markdown",
   "metadata": {},
   "source": [
    "#### Create a query to answer the following questions:\n",
    "1. How many tables are in the austin_bikeshare dataset?\n",
    "2. How many columns in the bikeshare_stations table have STRING data?"
   ]
  },
  {
   "cell_type": "code",
   "execution_count": null,
   "metadata": {},
   "outputs": [],
   "source": [
    "# 1. How many tables are in the austin_bikeshare dataset?\n",
    "\n",
    "df = client.query('''\n",
    "SELECT COUNT(*) AS Many_Tables\n",
    "FROM `bigquery-public-data.austin_bikeshare.INFORMATION_SCHEMA.TABLES`\n",
    "''').to_dataframe()\n",
    "\n",
    "df\n",
    "\n",
    "# Jumlah tabel pada datasaet austin_bikeshare adalah 2 tabel"
   ]
  },
  {
   "cell_type": "code",
   "execution_count": null,
   "metadata": {},
   "outputs": [],
   "source": [
    "# 2. How many columns in the bikeshare_stations table have STRING data?\n",
    "\n",
    "df = client.query('''\n",
    "SELECT *\n",
    "FROM `bigquery-public-data.austin_bikeshare.bikeshare_stations`\n",
    "''').to_dataframe()\n",
    "\n",
    "df.info()\n",
    "\n",
    "# Jumlah columns yang memiliki tipe data STRING adalah 7 dilihat dari object"
   ]
  },
  {
   "cell_type": "markdown",
   "metadata": {},
   "source": [
    "#### Create a query to filter data based on the following conditions:\n",
    "1. Retrieve all trips where the bike_id is not null and the duration is greater than 1000 minutes.\n",
    "2. Filter trips where the trip_id is \"Walk Up\" and the end_station_name  is \"Stolen\".5"
   ]
  },
  {
   "cell_type": "code",
   "execution_count": null,
   "metadata": {},
   "outputs": [],
   "source": [
    "# 1. Retrieve all trips where the bike_id is not null and the duration is greater than 1000 minutes.\n",
    "\n",
    "df = client.query('''\n",
    "SELECT * \n",
    "FROM `bigquery-public-data.austin_bikeshare.bikeshare_trips`\n",
    "WHERE bike_id IS NOT NULL\n",
    "AND duration_minutes > 1000;\n",
    "''').to_dataframe()\n",
    "\n",
    "df"
   ]
  },
  {
   "cell_type": "code",
   "execution_count": null,
   "metadata": {},
   "outputs": [],
   "source": [
    "# 2. Filter trips where the trip_id is \"Walk Up\" and the end_station_name is \"Stolen\".\n",
    "\n",
    "df = client.query('''\n",
    "SELECT *\n",
    "FROM `bigquery-public-data.austin_bikeshare.bikeshare_trips`\n",
    "WHERE subscriber_type = \"Walk Up\"\n",
    "  AND end_station_name = \"Stolen\"\n",
    "''').to_dataframe()\n",
    "\n",
    "df"
   ]
  },
  {
   "cell_type": "markdown",
   "metadata": {},
   "source": [
    "## Submission\n",
    "1. Create a file to store your answers. \n",
    "2. Save this assignment with filename : h8dsft_ngc_basic_data_wrangling_in_sql.ipynb.\n",
    "3. Push your answer into your own GitHub repository."
   ]
  }
 ],
 "metadata": {
  "language_info": {
   "name": "python"
  },
  "orig_nbformat": 4
 },
 "nbformat": 4,
 "nbformat_minor": 2
}
